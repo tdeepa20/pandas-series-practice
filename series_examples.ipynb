{
 "cells": [
  {
   "cell_type": "markdown",
   "id": "a258d255-a3cc-441d-87c0-c61aa3b177d2",
   "metadata": {},
   "source": [
    "# pandas Series - Practice Tasks\n",
    "\n",
    "This notebook contains practice examples for creating and working with Pandas Series."
   ]
  },
  {
   "cell_type": "markdown",
   "id": "9c1cc998-6159-42c8-8db2-25f1abb73ae4",
   "metadata": {},
   "source": [
    "# pandas Series \n",
    "         1.Creating Series\n",
    "         2.Series with Custom Index\n",
    "         3.Series Slicing\n",
    "         4.Series Operations\n",
    "\n",
    "Series Syntax:\n",
    "seriesobjectname = pandas.Series(data,index,Dtype)\n",
    "# \"S\" should be capital"
   ]
  },
  {
   "cell_type": "code",
   "execution_count": null,
   "id": "37eac305-279a-474e-8f4a-079d1cc87d0b",
   "metadata": {},
   "outputs": [],
   "source": [
    "import pandas as pd"
   ]
  },
  {
   "cell_type": "markdown",
   "id": "4592c85a-a234-4052-9273-002b14c70c2f",
   "metadata": {},
   "source": [
    "## 1.Creating Series"
   ]
  },
  {
   "cell_type": "code",
   "execution_count": 2,
   "id": "a4ab7ce3-8cda-4d40-9cd4-5c75a6c309bf",
   "metadata": {},
   "outputs": [
    {
     "name": "stdout",
     "output_type": "stream",
     "text": [
      "Series([], dtype: object)\n"
     ]
    }
   ],
   "source": [
    "#creating a empty series\n",
    "s1=pd.Series()\n",
    "print(s1)"
   ]
  },
  {
   "cell_type": "code",
   "execution_count": 4,
   "id": "dded18f9-e4e3-4f07-bcde-d890d5d26d4a",
   "metadata": {},
   "outputs": [
    {
     "name": "stdout",
     "output_type": "stream",
     "text": [
      "0    11\n",
      "1    12\n",
      "2    13\n",
      "3    14\n",
      "4    15\n",
      "dtype: int64\n"
     ]
    }
   ],
   "source": [
    "# Creating a Series from a list with default index\n",
    "s1=pd.Series([11,12,13,14,15])\n",
    "print(s1)"
   ]
  },
  {
   "cell_type": "code",
   "execution_count": 5,
   "id": "91b57724-048e-4c13-afeb-7bac69191900",
   "metadata": {},
   "outputs": [
    {
     "name": "stdout",
     "output_type": "stream",
     "text": [
      "0    11.5\n",
      "1    15.8\n",
      "2    69.0\n",
      "3     7.0\n",
      "dtype: float64\n"
     ]
    }
   ],
   "source": [
    "# Creating a Series from a list with default index (float datatype)\n",
    "s1=pd.Series([11.5,15.8,69,7])\n",
    "print(s1)"
   ]
  },
  {
   "cell_type": "code",
   "execution_count": 6,
   "id": "4b7477f1-8120-4a41-a3af-5b575a861673",
   "metadata": {},
   "outputs": [
    {
     "name": "stdout",
     "output_type": "stream",
     "text": [
      "0    31\n",
      "1    28\n",
      "2    56\n",
      "dtype: int64\n"
     ]
    }
   ],
   "source": [
    "# Creating a Series from a list by assigning list in variable\n",
    "days=[31,28,56]\n",
    "s1=pd.Series(days)\n",
    "print(s1)"
   ]
  },
  {
   "cell_type": "code",
   "execution_count": 9,
   "id": "3a1539de-1e13-4d4b-9213-60784f8fb541",
   "metadata": {},
   "outputs": [
    {
     "name": "stdout",
     "output_type": "stream",
     "text": [
      "0    0\n",
      "1    1\n",
      "2    2\n",
      "3    3\n",
      "4    4\n",
      "dtype: int64\n"
     ]
    }
   ],
   "source": [
    "# Creating a Series using range method\n",
    "s1=pd.Series(range(5))\n",
    "print(s1)"
   ]
  },
  {
   "cell_type": "code",
   "execution_count": 11,
   "id": "bb473cbf-a266-480f-b91a-48f065dc8b9e",
   "metadata": {},
   "outputs": [
    {
     "name": "stdout",
     "output_type": "stream",
     "text": [
      "0    15\n",
      "dtype: int64\n"
     ]
    }
   ],
   "source": [
    "# Creating a Series by using scalar value\n",
    "s1=pd.Series(15)\n",
    "print(s1)"
   ]
  },
  {
   "cell_type": "code",
   "execution_count": 15,
   "id": "f90ef945-b5db-44d5-8350-a7c4382ff801",
   "metadata": {},
   "outputs": [
    {
     "name": "stdout",
     "output_type": "stream",
     "text": [
      "1    15\n",
      "2    15\n",
      "3    15\n",
      "4    15\n",
      "dtype: int64\n"
     ]
    }
   ],
   "source": [
    "# Creating a Series from scalar value with range method\n",
    "s1=pd.Series(15, index=range(1,5))\n",
    "print(s1)"
   ]
  },
  {
   "cell_type": "code",
   "execution_count": 17,
   "id": "205c7a47-674a-4d2d-a6a8-d67d738f0d49",
   "metadata": {},
   "outputs": [
    {
     "name": "stdout",
     "output_type": "stream",
     "text": [
      "jan    30\n",
      "feb    28\n",
      "mar    31\n",
      "dtype: int64\n"
     ]
    }
   ],
   "source": [
    "# Creating a Series by using Dictionary data\n",
    "s1=pd.Series({'jan':30,'feb':28,'mar':31})\n",
    "print(s1)"
   ]
  },
  {
   "cell_type": "code",
   "execution_count": 18,
   "id": "a844df00-2a53-47ff-b204-1faca60caffd",
   "metadata": {},
   "outputs": [
    {
     "name": "stdout",
     "output_type": "stream",
     "text": [
      "jan    30\n",
      "feb    28\n",
      "mar    31\n",
      "dtype: int64\n"
     ]
    }
   ],
   "source": [
    "# Creating a Series by using Dictionary data which assigned in variable\n",
    "y={'jan':30,'feb':28,'mar':31}\n",
    "s1=pd.Series(y)\n",
    "print(s1)"
   ]
  },
  {
   "cell_type": "markdown",
   "id": "0bd709c6-b80f-4c0b-ac07-b582a88926e8",
   "metadata": {},
   "source": [
    "## 2.Series with Custom Index"
   ]
  },
  {
   "cell_type": "code",
   "execution_count": 7,
   "id": "e2ac2fb2-bb0c-445e-bd62-300410aadd3c",
   "metadata": {},
   "outputs": [
    {
     "name": "stdout",
     "output_type": "stream",
     "text": [
      "jan    31\n",
      "feb    28\n",
      "mar    31\n",
      "apr    30\n",
      "may    31\n",
      "dtype: int64\n"
     ]
    }
   ],
   "source": [
    "# Creating a Series from a list with label index\n",
    "months=['jan','feb','mar','apr','may']\n",
    "days=[31,28,31,30,31]\n",
    "s1=pd.Series(days,index=months)\n",
    "print(s1)"
   ]
  },
  {
   "cell_type": "code",
   "execution_count": 10,
   "id": "0edc050b-b717-42ed-bb2e-3170af29f21a",
   "metadata": {},
   "outputs": [
    {
     "name": "stdout",
     "output_type": "stream",
     "text": [
      "a    1\n",
      "b    3\n",
      "c    5\n",
      "d    7\n",
      "dtype: int64\n"
     ]
    }
   ],
   "source": [
    "# Creating a Series by using for loop\n",
    "s1=pd.Series(range(1,8,2),index=[x for x in 'abcd'])\n",
    "print(s1)"
   ]
  },
  {
   "cell_type": "code",
   "execution_count": 12,
   "id": "8e8b217b-5571-42ea-8bbd-c9c337501062",
   "metadata": {},
   "outputs": [
    {
     "name": "stdout",
     "output_type": "stream",
     "text": [
      "a    15\n",
      "b    15\n",
      "c    15\n",
      "d    15\n",
      "dtype: int64\n"
     ]
    }
   ],
   "source": [
    "# Creating a Series from scalar value with label index\n",
    "s1=pd.Series(15, index=['a','b','c','d'])\n",
    "print(s1)"
   ]
  },
  {
   "cell_type": "markdown",
   "id": "41e5fcfd-9f87-4ada-b7b0-52e3d4bae48f",
   "metadata": {},
   "source": [
    "## 3.Series Slicing"
   ]
  },
  {
   "cell_type": "code",
   "execution_count": 19,
   "id": "3c6a8bb6-d8e0-4c96-baa6-5f972d521b5b",
   "metadata": {},
   "outputs": [
    {
     "name": "stdout",
     "output_type": "stream",
     "text": [
      "200\n"
     ]
    }
   ],
   "source": [
    "# Access elements from list based on Positional indexing  (integer value)\n",
    "s1=pd.Series([100,200,300,400,500])\n",
    "print(s1[1])\n"
   ]
  },
  {
   "cell_type": "code",
   "execution_count": 20,
   "id": "85b7aad8-4177-41c2-9f09-910b2bbac042",
   "metadata": {},
   "outputs": [
    {
     "name": "stdout",
     "output_type": "stream",
     "text": [
      "0    100\n",
      "2    300\n",
      "4    500\n",
      "dtype: int64\n"
     ]
    }
   ],
   "source": [
    "#Access elements from list by step 2\n",
    "print(s1[::2])"
   ]
  },
  {
   "cell_type": "code",
   "execution_count": 22,
   "id": "02507d64-b14d-45e1-a179-b3412f8187e8",
   "metadata": {},
   "outputs": [
    {
     "name": "stdout",
     "output_type": "stream",
     "text": [
      "4    500\n",
      "3    400\n",
      "2    300\n",
      "1    200\n",
      "0    100\n",
      "dtype: int64\n"
     ]
    }
   ],
   "source": [
    "# Access elements from list in reverse order\n",
    "print(s1[::-1])"
   ]
  },
  {
   "cell_type": "code",
   "execution_count": 23,
   "id": "ea10150c-d0b4-4cdb-b6d7-ae0416748d7a",
   "metadata": {},
   "outputs": [
    {
     "name": "stdout",
     "output_type": "stream",
     "text": [
      "2    300\n",
      "3    400\n",
      "4    500\n",
      "dtype: int64\n"
     ]
    }
   ],
   "source": [
    "# Access elements from list that starts from index2\n",
    "print(s1[2:])"
   ]
  },
  {
   "cell_type": "code",
   "execution_count": 26,
   "id": "8114d903-5654-40a3-baa1-c1b024433bb1",
   "metadata": {},
   "outputs": [
    {
     "name": "stdout",
     "output_type": "stream",
     "text": [
      "a    11\n",
      "b    12\n",
      "c    13\n",
      "d    14\n",
      "dtype: int64\n"
     ]
    }
   ],
   "source": [
    "# Access elements from list based on label indexing\n",
    "s2=pd.Series([11,12,13,14,15],index=['a','b','c','d','e'])\n",
    "print(s2)\n",
    "print(s2['a':'d'])"
   ]
  },
  {
   "cell_type": "code",
   "execution_count": 27,
   "id": "316c59f7-56f8-4b90-99f5-25f6dcf2acc6",
   "metadata": {},
   "outputs": [
    {
     "name": "stdout",
     "output_type": "stream",
     "text": [
      "a     11\n",
      "b    100\n",
      "c    100\n",
      "d    100\n",
      "e     15\n",
      "dtype: int64\n"
     ]
    }
   ],
   "source": [
    "# Changed values of elements based on label\n",
    "s2['b':'d']=100\n",
    "print(s2)"
   ]
  },
  {
   "cell_type": "code",
   "execution_count": 29,
   "id": "f9c33f38-f63e-4a6a-a9e3-789883662b73",
   "metadata": {},
   "outputs": [
    {
     "name": "stdout",
     "output_type": "stream",
     "text": [
      "b    100\n",
      "c    100\n",
      "d    100\n",
      "dtype: int64\n"
     ]
    }
   ],
   "source": [
    "#iloc and loc method\n",
    "print(s2.loc['b':'e']) #based on labels\n",
    "print(s2.iloc[1:4]) #based on positional index"
   ]
  },
  {
   "cell_type": "code",
   "execution_count": 41,
   "id": "fb9e5c1e-28d3-4d3d-ad7d-1fb7e5681671",
   "metadata": {},
   "outputs": [
    {
     "name": "stdout",
     "output_type": "stream",
     "text": [
      "0    10\n",
      "1    20\n",
      "2    30\n",
      "dtype: int64\n"
     ]
    }
   ],
   "source": [
    "#head and tail method \n",
    "s3=pd.Series([10,20,30,40,50,60,70,80,90,100])\n",
    "print(s3.head()) #first 5 elements will show\n",
    "print(s3.tail()) #last 5 elements will show\n",
    "print(s3.head(3))  #only show first 3 elements\n",
    "print(s3.tail(3)) #only show last 3 elements\n",
    "print(s3.head(-3)) # last 3 elements will not shown\n",
    "print(s3.tail(-3))   #first 3 elements will not shown"
   ]
  },
  {
   "cell_type": "markdown",
   "id": "84a38c46-9487-4d30-82a2-4db299129093",
   "metadata": {},
   "source": [
    "## Series Operations"
   ]
  },
  {
   "cell_type": "code",
   "execution_count": 46,
   "id": "5afc2757-1977-46ce-9849-55281f29e380",
   "metadata": {},
   "outputs": [
    {
     "name": "stdout",
     "output_type": "stream",
     "text": [
      "10\n",
      "1\n",
      "False\n",
      "False\n",
      "[ 10  20  30  40  50  60  70  80  90 100]\n",
      "RangeIndex(start=0, stop=10, step=1)\n"
     ]
    }
   ],
   "source": [
    "#Series basic attributes\n",
    "print(s3.size)  # will show how many elements is available\n",
    "print(s3.ndim)  # shows dimensional structure\n",
    "print(s3.empty) \n",
    "print(s3.hasnans) #shows none values present or not\n",
    "print(s3.values)\n",
    "print(s3.index)"
   ]
  },
  {
   "cell_type": "markdown",
   "id": "859c25c0-00c9-4b3a-a489-9a5d097c7005",
   "metadata": {},
   "source": [
    "# Summary\n",
    "    - A \"Series\" is a one- labeled array\n",
    "    - It can store any datatype ( eg : int,float, string)\n",
    "    - It has numeric data labels by default, but also supports \" custom labels\"\n",
    "    - You can create series from  a list, dictionary or scalar value"
   ]
  }
 ],
 "metadata": {
  "kernelspec": {
   "display_name": "Python 3 (ipykernel)",
   "language": "python",
   "name": "python3"
  },
  "language_info": {
   "codemirror_mode": {
    "name": "ipython",
    "version": 3
   },
   "file_extension": ".py",
   "mimetype": "text/x-python",
   "name": "python",
   "nbconvert_exporter": "python",
   "pygments_lexer": "ipython3",
   "version": "3.13.5"
  }
 },
 "nbformat": 4,
 "nbformat_minor": 5
}
